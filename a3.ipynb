{
  "nbformat": 4,
  "nbformat_minor": 0,
  "metadata": {
    "colab": {
      "provenance": []
    },
    "kernelspec": {
      "name": "python3",
      "display_name": "Python 3"
    },
    "language_info": {
      "name": "python"
    }
  },
  "cells": [
    {
      "cell_type": "code",
      "source": [
        "\n",
        "from google.colab import files\n",
        "import pandas as pd\n",
        "import networkx as nx\n",
        "import matplotlib.pyplot as plt\n",
        "from scipy.cluster.hierarchy import linkage, dendrogram\n",
        "\n",
        "uploaded = files.upload()\n",
        "\n",
        "\n",
        "file_name = list(uploaded.keys())[0]\n",
        "\n",
        "# Load the data from the uploaded CSV file\n",
        "whisky_data = pd.read_csv(file_name)\n",
        "\n",
        "# Clean up column names by removing leading/trailing whitespaces\n",
        "whisky_data.columns = whisky_data.columns.str.strip()\n",
        "\n",
        "# Display information about missing values\n",
        "print(\"Missing Values Before Cleaning:\")\n",
        "print(whisky_data.isnull().sum())\n",
        "\n",
        "# Drop rows with missing values\n",
        "whisky_data = whisky_data.dropna()\n",
        "\n",
        "# Remove duplicates based on the 'Distillery' column\n",
        "whisky_data = whisky_data.drop_duplicates(subset='Distillery', keep='first')\n",
        "\n",
        "# Display information about missing values after cleaning\n",
        "print(\"\\nMissing Values After Cleaning:\")\n",
        "print(whisky_data.isnull().sum())\n",
        "\n",
        "# Display information about duplicates after cleaning\n",
        "print(\"\\nDuplicates After Cleaning:\")\n",
        "print(whisky_data.duplicated(subset='Distillery').sum())\n",
        "\n",
        "# Create a distance matrix based on sweetness\n",
        "sweetness_matrix = whisky_data['Sweetness'].values.reshape(-1, 1)\n",
        "linkage_matrix = linkage(sweetness_matrix, method='average')\n",
        "\n",
        "# Plot the hierarchical clustering dendrogram\n",
        "plt.figure(figsize=(10, 6))\n",
        "dendrogram(linkage_matrix, labels=whisky_data['Distillery'].tolist(), orientation='top', leaf_font_size=10)\n",
        "plt.title('Hierarchical Clustering Dendrogram - Sweetness')\n",
        "plt.xlabel('Whiskies')\n",
        "plt.ylabel('Distance')\n",
        "plt.show()\n"
      ],
      "metadata": {
        "id": "2sUGXPfSbbCQ"
      },
      "execution_count": null,
      "outputs": []
    },
    {
      "cell_type": "code",
      "source": [
        "# Identify clusters based on sweetness\n",
        "sweetness_clusters = pd.Series(linkage(linkage_matrix, method='average')[:, 2])\n",
        "\n",
        "# Assign cluster labels to whiskies\n",
        "whisky_data['Sweetness_Cluster'] = sweetness_clusters\n",
        "\n",
        "# Display the top ten whiskies that are similar in sweetness\n",
        "top_sweetness_whiskies = (\n",
        "    whisky_data.groupby('Sweetness_Cluster')['Distillery']\n",
        "    .apply(lambda x: ', '.join(x.head(10).tolist()))\n",
        "    .reset_index(name='Top 10 Sweetness Whiskies')\n",
        ")\n",
        "\n",
        "print(\"Top 10 Whiskies Similar in Sweetness:\")\n",
        "print(top_sweetness_whiskies)\n",
        "\n",
        "\n"
      ],
      "metadata": {
        "id": "-Kmb-9tBegkt"
      },
      "execution_count": null,
      "outputs": []
    }
  ]
}